{
 "cells": [
  {
   "cell_type": "code",
   "execution_count": null,
   "metadata": {},
   "outputs": [],
   "source": [
    "pip install rasgoql --upgrade"
   ]
  },
  {
   "cell_type": "code",
   "execution_count": null,
   "metadata": {},
   "outputs": [],
   "source": [
    "import rasgoql"
   ]
  },
  {
   "cell_type": "markdown",
   "metadata": {},
   "source": [
    "#### Helper Methods"
   ]
  },
  {
   "cell_type": "code",
   "execution_count": null,
   "metadata": {},
   "outputs": [],
   "source": [
    "# Helper methods available prior to connection\n",
    "\n",
    "print(rasgoql.__all__)\n",
    "print(rasgoql.__version__)\n",
    "rasgoql.open_docs()"
   ]
  },
  {
   "cell_type": "markdown",
   "metadata": {},
   "source": [
    "### Connection Workflow"
   ]
  },
  {
   "cell_type": "code",
   "execution_count": null,
   "metadata": {},
   "outputs": [],
   "source": [
    "# -- First Run Only --\n",
    "# Set credentials for your DataWarehouse and save them in a .env file\n",
    "creds = rasgoql.SnowflakeCredentials(\n",
    "    account=\"\",\n",
    "    user=\"\",\n",
    "    password=\"\",\n",
    "    role=\"\",\n",
    "    warehouse=\"\",\n",
    "    database=\"\",\n",
    "    schema=\"\"\n",
    ")\n",
    "optional_file_path = 'myfolder/'\n",
    "creds.to_env(optional_file_path)\n",
    "\n",
    "# or more simply:\n",
    "creds.to_env()\n",
    "\n",
    "# If you receive a FileExists exception, run this:\n",
    "#creds.to_env(overwrite=True)"
   ]
  },
  {
   "cell_type": "code",
   "execution_count": null,
   "metadata": {},
   "outputs": [],
   "source": [
    "# Connect RQL to your Data Warehouse\n",
    "\n",
    "# Setting creds here is redundant to the cell above\n",
    "# This is what will be run in subsequent sessions after env \n",
    "# variables are set in the initial session\n",
    "creds = rasgoql.SnowflakeCredentials.from_env()\n",
    "\n",
    "rql = rasgoql.connect(creds)\n",
    "\n",
    "print(\"rasgoQL connected!\")"
   ]
  },
  {
   "cell_type": "markdown",
   "metadata": {},
   "source": [
    "### Interact with DW Workflow"
   ]
  },
  {
   "cell_type": "code",
   "execution_count": null,
   "metadata": {},
   "outputs": [],
   "source": [
    "# List all available tables in DW in a pandas DF\n",
    "rql.list_tables()\n",
    "\n",
    "# Optionally, specify a database\n",
    "rql.list_tables('adventureworks')"
   ]
  },
  {
   "cell_type": "code",
   "execution_count": null,
   "metadata": {},
   "outputs": [],
   "source": [
    "# Run a custom query\n",
    "rql.query(\"SELECT 'Hold onto your butts' AS free_form_sql \")"
   ]
  },
  {
   "cell_type": "code",
   "execution_count": null,
   "metadata": {},
   "outputs": [],
   "source": [
    "# rasgoQL tries to help prevent the most basic SQL injection patterns\n",
    "rql.query('SELECT top 10 *; TRUNCATE VERY_IMPORTANT_TABLE')"
   ]
  },
  {
   "cell_type": "code",
   "execution_count": null,
   "metadata": {},
   "outputs": [],
   "source": [
    "# Pull results from a custom query into pandas (if it returns data)\n",
    "tbl_df = rql.query_into_df(\"SELECT TOP 10 * FROM ABCD123\")\n",
    "tbl_df.head()"
   ]
  },
  {
   "cell_type": "markdown",
   "metadata": {},
   "source": [
    "### Interact with Datasets Workflow"
   ]
  },
  {
   "cell_type": "code",
   "execution_count": null,
   "metadata": {},
   "outputs": [],
   "source": [
    "# Allow rasgoQL to interact with an existing Dataset in your Data Warehouse\n",
    "ds = rql.dataset(fqtn='RASGOLOCAL.PUBLIC.ABCD123')\n",
    "ds"
   ]
  },
  {
   "cell_type": "code",
   "execution_count": null,
   "metadata": {},
   "outputs": [],
   "source": [
    "# Preview the Dataset in pandas\n",
    "ds.preview()"
   ]
  },
  {
   "cell_type": "code",
   "execution_count": null,
   "metadata": {},
   "outputs": [],
   "source": [
    "# Or pull the whole Dataset into a DataFrame\n",
    "df = ds.to_df()\n",
    "df.head()"
   ]
  },
  {
   "cell_type": "code",
   "execution_count": null,
   "metadata": {},
   "outputs": [],
   "source": [
    "# Preview columns & data types in table\n",
    "schema = ds.get_schema()\n",
    "for col in schema:\n",
    "    print (f'{col[\"name\"]} : {col[\"type\"]}')"
   ]
  },
  {
   "cell_type": "code",
   "execution_count": null,
   "metadata": {},
   "outputs": [],
   "source": [
    "# Get table's DDL\n",
    "print(ds.sql())"
   ]
  },
  {
   "cell_type": "markdown",
   "metadata": {},
   "source": [
    "### Apply Transforms Workflow"
   ]
  },
  {
   "cell_type": "code",
   "execution_count": null,
   "metadata": {},
   "outputs": [],
   "source": [
    "# Browse available rasgoQL transform templates\n",
    "templates = rql.list_transforms()\n",
    "\n",
    "# Print the first ten\n",
    "templates[0:10]"
   ]
  },
  {
   "cell_type": "code",
   "execution_count": null,
   "metadata": {},
   "outputs": [],
   "source": [
    "# Interact with the list of templates\n",
    "for t in templates:\n",
    "    if t.name == 'join':\n",
    "        print(t.define())"
   ]
  },
  {
   "cell_type": "code",
   "execution_count": null,
   "metadata": {},
   "outputs": [],
   "source": [
    "# Or define a specific transform by name\n",
    "print(rql.define_transform('join'))"
   ]
  },
  {
   "cell_type": "code",
   "execution_count": null,
   "metadata": {},
   "outputs": [],
   "source": [
    "# Start with an existing Dataset\n",
    "ds = rql.dataset(fqtn='RASGOLOCAL.PUBLIC.ABCD123')\n",
    "ds"
   ]
  },
  {
   "cell_type": "code",
   "execution_count": null,
   "metadata": {},
   "outputs": [],
   "source": [
    "# Create a SQL chain by applying Transform(s)\n",
    "chn = ds.cast(\n",
    "    casts={\n",
    "      'LOC_ID':'STRING',\n",
    "      'DATE':'STRING'\n",
    "    }\n",
    ")\n",
    "chn"
   ]
  },
  {
   "cell_type": "code",
   "execution_count": null,
   "metadata": {},
   "outputs": [],
   "source": [
    "# Print SQL\n",
    "print(chn.sql())"
   ]
  },
  {
   "cell_type": "code",
   "execution_count": null,
   "metadata": {},
   "outputs": [],
   "source": [
    "# Fork existing chains and keep adding to them\n",
    "# Fork 1\n",
    "chn1 = chn.concat(concat_list=[\"STATE_NAME\", \"'some_str'\", \"'_F1'\"])\n",
    "print('Fork 1:')\n",
    "print(chn1)\n",
    "\n",
    "# Fork 2\n",
    "chn2 = chn.cast(casts = {'DATE':'date'})\n",
    "chn2 = chn2.datetrunc(dates = {'DATE_DATE':'month'})\n",
    "print('Fork 2:')\n",
    "print(chn2)"
   ]
  },
  {
   "cell_type": "code",
   "execution_count": null,
   "metadata": {},
   "outputs": [],
   "source": [
    "# Print SQL\n",
    "print('Fork 1:')\n",
    "print(chn1.sql())\n",
    "\n",
    "print('\\n-----\\n')\n",
    "\n",
    "print('Fork 2:')\n",
    "print(chn2.sql())"
   ]
  },
  {
   "cell_type": "code",
   "execution_count": null,
   "metadata": {},
   "outputs": [],
   "source": [
    "# Try different render methods\n",
    "print('\\nRender CTE')\n",
    "print(chn2.sql(render_method='SELECT'))\n",
    "\n",
    "print('\\nRender View')\n",
    "print(chn2.sql(render_method='VIEW'))"
   ]
  },
  {
   "cell_type": "code",
   "execution_count": null,
   "metadata": {},
   "outputs": [],
   "source": [
    "# Preview in pandas\n",
    "chn2.preview()"
   ]
  },
  {
   "cell_type": "code",
   "execution_count": null,
   "metadata": {},
   "outputs": [],
   "source": [
    "# Pull all data into pandas\n",
    "df = chn2.to_df()\n",
    "df.head()"
   ]
  },
  {
   "cell_type": "code",
   "execution_count": null,
   "metadata": {},
   "outputs": [],
   "source": [
    "# Save the chain to your Data Warehouse as a view\n",
    "new_view = chn2.save(table_name='MY_TEST', table_type='view')\n",
    "new_view\n",
    "\n",
    "# If you receive the exception:\n",
    "#TableConflictException: A table or view named rasgolocal.public.MY_TEST already exists. \n",
    "#    If you are sure you want to overwrite it, pass in acknowledge_overwrite=True \n",
    "#    and run this function again.\n",
    "# Run this:\n",
    "#new_view = chn2.save(table_name='MY_TEST', table_type='view', acknowledge_overwrite=True)"
   ]
  },
  {
   "cell_type": "code",
   "execution_count": null,
   "metadata": {},
   "outputs": [],
   "source": [
    "# Print the view DDL SQL to confirm it's what we expect\n",
    "print('\\nDDL')\n",
    "print(new_view.sql())"
   ]
  },
  {
   "cell_type": "code",
   "execution_count": null,
   "metadata": {},
   "outputs": [],
   "source": [
    "# Coming Soon: Create a dbt-compliant YML file to run the transforms\n",
    "#chn2.to_yml()"
   ]
  }
 ],
 "metadata": {
  "kernelspec": {
   "display_name": "Python 3",
   "language": "python",
   "name": "python3"
  },
  "language_info": {
   "codemirror_mode": {
    "name": "ipython",
    "version": 3
   },
   "file_extension": ".py",
   "mimetype": "text/x-python",
   "name": "python",
   "nbconvert_exporter": "python",
   "pygments_lexer": "ipython3",
   "version": "3.8.3"
  }
 },
 "nbformat": 4,
 "nbformat_minor": 4
}
