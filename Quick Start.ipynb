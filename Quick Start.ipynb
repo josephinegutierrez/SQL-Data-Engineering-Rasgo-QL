{
 "cells": [
  {
   "cell_type": "code",
   "execution_count": null,
   "metadata": {},
   "outputs": [],
   "source": [
    "import rasgoql"
   ]
  },
  {
   "cell_type": "code",
   "execution_count": null,
   "metadata": {},
   "outputs": [],
   "source": [
    "# Point Rasgo to my existing DataWarehouse (Snowflake example)\n",
    "creds = rasgoql.SnowflakeCredentials(\n",
    "    account=\"\",\n",
    "    user=\"\",\n",
    "    password=\"\",\n",
    "    role=\"\",\n",
    "    warehouse=\"\",\n",
    "    database=\"\",\n",
    "    schema=\"\"\n",
    ")\n",
    "rql = rasgoql.connect(creds)"
   ]
  },
  {
   "cell_type": "code",
   "execution_count": null,
   "metadata": {},
   "outputs": [],
   "source": [
    "# See all available tables\n",
    "tables = rql.list_tables()\n",
    "print(tables)"
   ]
  },
  {
   "cell_type": "code",
   "execution_count": null,
   "metadata": {},
   "outputs": [],
   "source": [
    "# Select a table to transform...\n",
    "ds = rql.dataset('ADVENTUREWORKS.PUBLIC.FACTINTERNETSALES')\n",
    " \n",
    "# Apply a rasgo pivot transform\n",
    "ds_pivot = ds_agg.pivot(\n",
    "    dimensions=['ORDERDATE'],\n",
    "    pivot_column='SALESAMOUNT',\n",
    "    value_column='PRODUCTKEY',\n",
    "    agg_method='SUM',\n",
    "    list_of_vals=['310', '345']\n",
    ")\n",
    "\n",
    "ds_pivot.sql()\n",
    "ds_pivot.preview()\n",
    " \n",
    "# Preview results in a dataframe\n",
    "ds_pivot.preview()\n",
    "  \n",
    "# Check the SQL that runs\n",
    "ds_pivot.sql()\n",
    " \n",
    "# Save transformed data as a view in your Data Warehouse so we can reference it later\n",
    "ds_pivot.save(table_name='MY_RASGO_TEST')\n",
    " \n",
    "# Add more transforms to build more complex SQL chains & view with the SQL\n",
    "ds_cast = ds_pivot.cast(casts = {'ORDERDATEKEY': 'date'})\n",
    "ds_trunc = ds_cast.datetrunc(dates = {'ORDERDATEKEY': 'month'})\n",
    "\n",
    "ds_trunc.sql()"
   ]
  }
 ],
 "metadata": {
  "language_info": {
   "name": "python"
  },
  "orig_nbformat": 4
 },
 "nbformat": 4,
 "nbformat_minor": 2
}
