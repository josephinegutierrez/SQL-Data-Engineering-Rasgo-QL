{
 "cells": [
  {
   "cell_type": "code",
   "execution_count": null,
   "metadata": {},
   "outputs": [],
   "source": [
    "import rasgoql"
   ]
  },
  {
   "cell_type": "code",
   "execution_count": null,
   "metadata": {},
   "outputs": [],
   "source": [
    "# Point Rasgo to my existing DataWarehouse (Snowflake example)\n",
    "creds = rasgoql.SnowflakeCredentials(\n",
    "    account=\"\",\n",
    "    user=\"\",\n",
    "    password=\"\",\n",
    "    role=\"\",\n",
    "    warehouse=\"\",\n",
    "    database=\"\",\n",
    "    schema=\"\"\n",
    "sf = rasgoql.snowflake.connect(creds)"
   ]
  },
  {
   "cell_type": "code",
   "execution_count": null,
   "metadata": {},
   "outputs": [],
   "source": [
    "# Find tables\n",
    "tables = sf.list_tables()\n",
    "print(tables)"
   ]
  },
  {
   "cell_type": "code",
   "execution_count": null,
   "metadata": {},
   "outputs": [],
   "source": [
    "# Select a table to transform...\n",
    "ds = sf.dataset('DATABASE.SCHEMA.TABLENAME')\n",
    "\n",
    " \n",
    "# Apply a rasgo transform\n",
    "ds2 = ds.cast(\n",
    "    casts={\n",
    "      'LOC_ID':'STRING',\n",
    "      'DATE':'STRING'\n",
    "    }\n",
    ")\n",
    " \n",
    "# Preview results (in a dataframe)\n",
    "ds2.preview()\n",
    "  \n",
    "# Check the SQL that runs\n",
    "ds2.sql()\n",
    " \n",
    "# Save transformed data as a view in your Data Warehouse so we can reference it later\n",
    "ds2.save(table_name='MY_RASGO_TEST')\n",
    " \n",
    "# Add another transform to build more complex SQL chains\n",
    "ds3 = ds2.cast(casts = {'DATE':'date'})\n",
    "chn4 = chn3.datetrunc(dates = {'DATE_DATE':'month'})"
   ]
  }
 ],
 "metadata": {
  "language_info": {
   "name": "python"
  },
  "orig_nbformat": 4
 },
 "nbformat": 4,
 "nbformat_minor": 2
}
