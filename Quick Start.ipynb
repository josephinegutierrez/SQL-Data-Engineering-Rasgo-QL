{
 "cells": [
  {
   "cell_type": "code",
   "execution_count": null,
   "metadata": {},
   "outputs": [],
   "source": [
    "import rasgoql"
   ]
  },
  {
   "cell_type": "code",
   "execution_count": null,
   "metadata": {},
   "outputs": [],
   "source": [
    " # Point Rasgo to my existing CDW (Snowflake example)\n",
    "cdw_creds = {\n",
    "  user=X,\n",
    "  password=X,\n",
    "  role=X,\n",
    "  database=X,\n",
    "  schema=X,\n",
    "  warehoouse=X\n",
    "}\n",
    "rasgoql.snowflake.connect(**cdw_creds)"
   ]
  },
  {
   "cell_type": "code",
   "execution_count": null,
   "metadata": {},
   "outputs": [],
   "source": [
    "\n",
    "# Select a table to transform...\n",
    "ds = rasgoql.dataset('DATABASE.SCHEMA.TABLENAME')\n",
    " \n",
    "# Apply a rasgo transform\n",
    "ds2 = ds.transform('transform name', {'args': 'value'})\n",
    "OR\n",
    "ds2 = ds.query('ANY SQL')\n",
    " \n",
    "# Preview results (in a dataframe)\n",
    "ds2.preview()\n",
    " \n",
    "# Return full dataset in a dataframe\n",
    "ds2.df(limit=100)\n",
    " \n",
    "# Check the SQL that runs\n",
    "ds2.sql()\n",
    " \n",
    "# Save transformed data as a view in CDW so we can reference it later\n",
    "ds2.save('view_name')\n",
    " \n",
    "# Chain another transform off the original transform\n",
    "ds2.transform()\n"
   ]
  },
  {
   "cell_type": "code",
   "execution_count": null,
   "metadata": {},
   "outputs": [],
   "source": []
  },
  {
   "cell_type": "code",
   "execution_count": null,
   "metadata": {},
   "outputs": [],
   "source": []
  }
 ],
 "metadata": {
  "language_info": {
   "name": "python"
  },
  "orig_nbformat": 4
 },
 "nbformat": 4,
 "nbformat_minor": 2
}
