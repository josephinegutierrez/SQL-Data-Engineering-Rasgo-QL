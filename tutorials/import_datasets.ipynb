{
 "cells": [
  {
   "cell_type": "code",
   "execution_count": null,
   "metadata": {},
   "outputs": [],
   "source": [
    "import pandas as pd\n",
    "import rasgoql"
   ]
  },
  {
   "cell_type": "code",
   "execution_count": null,
   "metadata": {},
   "outputs": [],
   "source": [
    "# Pick your DW:\n",
    "#creds = rasgoql.SnowflakeCredentials.from_env()\n",
    "creds = rasgoql.BigQueryCredentials.from_env()\n",
    "\n",
    "rql = rasgoql.connect(creds)\n",
    "rql.set_verbose(True)"
   ]
  },
  {
   "cell_type": "code",
   "execution_count": null,
   "metadata": {},
   "outputs": [],
   "source": [
    "import_sales = pd.read_csv(\n",
    "    'FactInternetSales.csv',\n",
    "    delimiter='|',\n",
    "    names=['PRODUCTKEY', 'ORDERDATEKEY', 'DUEDATEKEY', 'SHIPDATEKEY',\n",
    "       'CUSTOMERKEY', 'PROMOTIONKEY', 'CURRENCYKEY', 'SALESTERRITORYKEY',\n",
    "       'SALESORDERNUMBER', 'SALESORDERLINENUMBER', 'REVISIONNUMBER',\n",
    "       'ORDERQUANTITY', 'UNITPRICE', 'EXTENDEDAMOUNT', 'UNITPRICEDISCOUNTPCT',\n",
    "       'DISCOUNTAMOUNT', 'PRODUCTSTANDARDCOST', 'TOTALPRODUCTCOST',\n",
    "       'SALESAMOUNT', 'TAXAMT', 'FREIGHT', 'CARRIERTRACKINGNUMBER',\n",
    "       'CUSTOMERPONUMBER', 'ORDERDATE', 'DUEDATE', 'SHIPDATE'],\n",
    "    parse_dates=True,\n",
    "    encoding='utf_16_le'\n",
    "    )\n",
    "\n",
    "# Convert known date fields\n",
    "import_sales['ORDERDATE'] = pd.to_datetime(import_sales['ORDERDATE']).dt.date\n",
    "import_sales['DUEDATE'] = pd.to_datetime(import_sales['DUEDATE']).dt.date\n",
    "import_sales['SHIPDATE'] = pd.to_datetime(import_sales['SHIPDATE']).dt.date\n",
    "\n",
    "# preview data\n",
    "import_sales.head()"
   ]
  },
  {
   "cell_type": "code",
   "execution_count": null,
   "metadata": {},
   "outputs": [],
   "source": [
    "import_product = pd.read_csv(\n",
    "    'DimProduct.csv',\n",
    "    delimiter='|',\n",
    "    names=['PRODUCTKEY', 'PRODUCTALTERNATEKEY', 'PRODUCTSUBCATEGORYKEY',\n",
    "       'WEIGHTUNITMEASURECODE', 'SIZEUNITMEASURECODE', 'ENGLISHPRODUCTNAME',\n",
    "       'SPANISHPRODUCTNAME', 'FRENCHPRODUCTNAME', 'STANDARDCOST',\n",
    "       'FINISHEDGOODSFLAG', 'COLOR', 'SAFETYSTOCKLEVEL', 'REORDERPOINT',\n",
    "       'LISTPRICE', 'SIZE', 'SIZERANGE', 'WEIGHT', 'DAYSTOMANUFACTURE',\n",
    "       'PRODUCTLINE', 'DEALERPRICE', 'CLASS', 'STYLE', 'MODELNAME',\n",
    "       'LARGEPHOTO', 'ENGLISHDESCRIPTION', 'FRENCHDESCRIPTION',\n",
    "       'CHINESEDESCRIPTION', 'ARABICDESCRIPTION', 'HEBREWDESCRIPTION',\n",
    "       'THAIDESCRIPTION', 'GERMANDESCRIPTION', 'JAPANESEDESCRIPTION',\n",
    "       'TURKISHDESCRIPTION', 'STARTDATE', 'ENDDATE', 'STATUS'],\n",
    "    parse_dates=True,\n",
    "    encoding='utf_16_le'\n",
    "    )\n",
    "\n",
    "# Convert known date fields\n",
    "import_product['STARTDATE'] = pd.to_datetime(import_product['STARTDATE']).dt.date\n",
    "import_product['ENDDATE'] = pd.to_datetime(import_product['ENDDATE']).dt.date\n",
    "\n",
    "# preview data\n",
    "import_product.head()"
   ]
  },
  {
   "cell_type": "code",
   "execution_count": null,
   "metadata": {},
   "outputs": [],
   "source": [
    "import_promotion = pd.read_csv(\n",
    "    'DimPromotion.csv',\n",
    "    delimiter='|',\n",
    "    names=['PROMOTIONKEY', 'PROMOTIONALTERNATEKEY', 'ENGLISHPROMOTIONNAME',\n",
    "       'SPANISHPROMOTIONNAME', 'FRENCHPROMOTIONNAME', 'DISCOUNTPCT',\n",
    "       'ENGLISHPROMOTIONTYPE', 'SPANISHPROMOTIONTYPE', 'FRENCHPROMOTIONTYPE',\n",
    "       'ENGLISHPROMOTIONCATEGORY', 'SPANISHPROMOTIONCATEGORY',\n",
    "       'FRENCHPROMOTIONCATEGORY', 'STARTDATE', 'ENDDATE', 'MINQTY', 'MAXQTY'],\n",
    "    parse_dates=True,\n",
    "    encoding='utf_16_le'\n",
    "    )\n",
    "\n",
    "# Convert known date fields\n",
    "import_promotion['STARTDATE'] = pd.to_datetime(import_promotion['STARTDATE']).dt.date\n",
    "import_promotion['ENDDATE'] = pd.to_datetime(import_promotion['ENDDATE']).dt.date\n",
    "\n",
    "# preview data\n",
    "import_promotion.head()"
   ]
  },
  {
   "cell_type": "code",
   "execution_count": null,
   "metadata": {},
   "outputs": [],
   "source": [
    "sales_ds = rql.dataset_from_df(\n",
    "    df=import_sales,\n",
    "    table_name='FACTINTERNETSALES',\n",
    "    method='replace'\n",
    ")\n",
    "sales_ds"
   ]
  },
  {
   "cell_type": "code",
   "execution_count": null,
   "metadata": {},
   "outputs": [],
   "source": [
    "product_ds = rql.dataset_from_df(\n",
    "    df=import_product,\n",
    "    table_name='DIMPRODUCT',\n",
    "    method='replace'\n",
    ")\n",
    "product_ds"
   ]
  },
  {
   "cell_type": "code",
   "execution_count": null,
   "metadata": {},
   "outputs": [],
   "source": [
    "promotion_ds = rql.dataset_from_df(\n",
    "    df=import_promotion,\n",
    "    table_name='DIMPROMOTION',\n",
    "    method='replace'\n",
    ")\n",
    "promotion_ds"
   ]
  }
 ],
 "metadata": {
  "interpreter": {
   "hash": "eba8ad19e6c2a62665f7fa54b258b5ce91edd2290951548d71ff09c30c8185c1"
  },
  "kernelspec": {
   "display_name": "Python 3.8.3 ('base')",
   "language": "python",
   "name": "python3"
  },
  "language_info": {
   "codemirror_mode": {
    "name": "ipython",
    "version": 3
   },
   "file_extension": ".py",
   "mimetype": "text/x-python",
   "name": "python",
   "nbconvert_exporter": "python",
   "pygments_lexer": "ipython3",
   "version": "3.8.3"
  },
  "orig_nbformat": 4
 },
 "nbformat": 4,
 "nbformat_minor": 2
}
